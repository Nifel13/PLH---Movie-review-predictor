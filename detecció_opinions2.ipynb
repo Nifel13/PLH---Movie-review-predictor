{
 "cells": [
  {
   "cell_type": "markdown",
   "metadata": {},
   "source": [
    "# Detecció d'opinions amb un model unsupervised"
   ]
  },
  {
   "cell_type": "code",
   "execution_count": 1,
   "metadata": {},
   "outputs": [
    {
     "name": "stderr",
     "output_type": "stream",
     "text": [
      "[nltk_data] Downloading package wordnet to /home/barre/nltk_data...\n",
      "[nltk_data]   Package wordnet is already up-to-date!\n",
      "[nltk_data] Downloading package omw-1.4 to /home/barre/nltk_data...\n",
      "[nltk_data]   Package omw-1.4 is already up-to-date!\n",
      "[nltk_data] Downloading package movie_reviews to\n",
      "[nltk_data]     /home/barre/nltk_data...\n",
      "[nltk_data]   Package movie_reviews is already up-to-date!\n"
     ]
    }
   ],
   "source": [
    "# Math\n",
    "from math import log, exp, sqrt, tanh, cosh, sinh, log10\n",
    "\n",
    "# NLTK\n",
    "import nltk\n",
    "\n",
    "from nltk.corpus import movie_reviews as mr\n",
    "from nltk.corpus import sentiwordnet as swn\n",
    "from nltk.corpus import stopwords\n",
    "from nltk.corpus import wordnet as wn\n",
    "from nltk.wsd import lesk\n",
    "nltk.download('wordnet')\n",
    "nltk.download('omw-1.4')\n",
    "nltk.download('movie_reviews')\n",
    "\n",
    "# Sklearn\n",
    "from sklearn.base import BaseEstimator, ClassifierMixin\n",
    "from sklearn.model_selection import GridSearchCV, train_test_split\n",
    "\n",
    "#Typing\n",
    "from typing import Tuple\n",
    "\n",
    "# Pandas\n",
    "import pandas as pd\n",
    "\n",
    "import seaborn as sns\n",
    "from sklearn.metrics import confusion_matrix, classification_report, ConfusionMatrixDisplay\n",
    "import seaborn as sns\n",
    "import matplotlib.pyplot as plt\n",
    "import dill as pickle"
   ]
  },
  {
   "cell_type": "markdown",
   "metadata": {},
   "source": [
    "## Obtención de los datos y separación train-test"
   ]
  },
  {
   "cell_type": "code",
   "execution_count": 2,
   "metadata": {},
   "outputs": [],
   "source": [
    "y = [\"pos\"]*1000 + [\"neg\"]*1000 \n",
    "corpus = []\n",
    "for rev in mr.fileids():\n",
    "    corpus.append((mr.raw(rev)))\n",
    "\n",
    "X_train, X_test, y_train, y_test = train_test_split(corpus, y, test_size=0.2, random_state=42)"
   ]
  },
  {
   "cell_type": "markdown",
   "metadata": {},
   "source": [
    "## Definición de nuestro modelo no supervisado"
   ]
  },
  {
   "cell_type": "code",
   "execution_count": 2,
   "metadata": {},
   "outputs": [],
   "source": [
    "def movie_review_categorizer(review: str,func = lambda x: x, mode = 3, max_sum = False, theta = 1) -> str:\n",
    "    \n",
    "   \"\"\"Función que recibe una review como parámetro y preprocesa dicha review,\n",
    "    eliminando los caracteres especiales y convirtiéndolas a minúsculas.\n",
    "    Luego, se separa dicha review por oraciones, escogiendo el synset correspondiente para cada palabra\n",
    "    dentro de la oración mediante desambiguación de Lesk. \n",
    "    Finalmente se realiza el análisis de sentimiento de cada synset y se devuelve la media de el resultado de aplicar\n",
    "    la función func a cada puntuación de cada palabra. En caso de haber mayoría para neg se devuelve neg, \n",
    "    y en caso contrario o en caso de empate se devolverá pos\n",
    "    \n",
    "    Parámetros:\n",
    "    - review: String conteniendo la reseña de la película.\n",
    "    - func: Función de Python representando la función a aplicar a las puntuaciones de los synsets. Por defecto, es la función identidad.\n",
    "    - mode: El número de partes del discurso a considerar para lesk. Por defecto, se consideran todas (3).\n",
    "    - max_sum: Booleano que indica si se debe considerar la suma máxima de las puntuaciones de los synsets. Por defecto, es False.\n",
    "    - theta: Parámetro de ajuste para las puntuaciones de las palabras. Por defecto, es 1.\n",
    "    \n",
    "    Devuelve:\n",
    "    - String cuyo valor es 'pos' si el sentimiento es positivo, 'neg' si es negativo. En caso de empate, devuelve 'pos'.\n",
    "    \"\"\"\n",
    "   \n",
    "   modes =[\"a\",\"n\",\"r\",\"v\"]\n",
    "   modes = modes[0:mode]\n",
    "\n",
    "   # preprocessing\n",
    "   rev_score = {'pos': 0, 'neg': 0} \n",
    "   review = ''.join(c for c in review if c.isalpha() or c == ' ')\n",
    "   review = review.lower()\n",
    "   stop_words = set(stopwords.words('english'))\n",
    "   review = ' '.join([word for word in review.split() if word not in stop_words])\n",
    "   lemmatizer = nltk.WordNetLemmatizer()\n",
    "   review = ' '.join(lemmatizer.lemmatize(word) for word in review.split())\n",
    "   \n",
    "   # puntuacion de cada palabra\n",
    "   for sentence in review.split(\"\\n\"):\n",
    "        token_sentence = nltk.word_tokenize(sentence)\n",
    "\n",
    "        for word in token_sentence:\n",
    "            disambiguated_word = lesk(token_sentence, word)\n",
    "            if disambiguated_word is not None:\n",
    "\n",
    "                if disambiguated_word.pos() in modes:\n",
    "                    synset = disambiguated_word\n",
    "                    synset_score = swn.senti_synset(synset.name())\n",
    "                    pos_score = func(synset_score.pos_score())\n",
    "                    neg_score = func(synset_score.neg_score())\n",
    "\n",
    "                    if max_sum == False:\n",
    "                        rev_score['pos'] += pos_score \n",
    "                        rev_score['neg'] += neg_score\n",
    "\n",
    "                    else:\n",
    "                        if pos_score > neg_score:\n",
    "                            rev_score['pos'] += pos_score\n",
    "                        else:\n",
    "                            rev_score['neg'] += neg_score\n",
    "\n",
    "   rev_score['pos'] = rev_score['pos']**theta\n",
    "   rev_score['neg'] = rev_score['neg']**theta\n",
    "\n",
    "   if rev_score['pos'] > rev_score['neg']:\n",
    "        return 'pos'\n",
    "   elif rev_score['neg'] > rev_score['pos']:\n",
    "        return 'neg'\n",
    "   else:\n",
    "        return 'pos'"
   ]
  },
  {
   "cell_type": "markdown",
   "metadata": {},
   "source": [
    "## Grid search con train para encontrar los mejores parametros"
   ]
  },
  {
   "cell_type": "code",
   "execution_count": 70,
   "metadata": {},
   "outputs": [
    {
     "name": "stdout",
     "output_type": "stream",
     "text": [
      "0.564375\n",
      "{'func': <function <lambda> at 0x0000024EDCDEF7F0>, 'max_sum': False, 'mode': 2, 'theta': 0.5}\n"
     ]
    }
   ],
   "source": [
    "class MovieReviewCategorizer(BaseEstimator, ClassifierMixin):\n",
    "    def __init__(self, func=lambda x: -log(x), mode=3, max_sum=False, theta=1):\n",
    "        self.func = func\n",
    "        self.mode = mode\n",
    "        self.max_sum = max_sum\n",
    "        self.theta = theta\n",
    "        \n",
    "    def fit(self, X, y=None):\n",
    "        return self\n",
    "\n",
    "    def predict(self, X):\n",
    "        return [movie_review_categorizer(movie, self.func, self.mode,self.max_sum,self.theta) for movie in X]\n",
    "\n",
    "# Define the parameter grid\n",
    "param_grid = {\n",
    "    'func': [lambda x: x, lambda x: -log(x+10**-10), lambda x: tanh(x)], \n",
    "    'mode': [1, 2, 3],\n",
    "    'max_sum': [True, False],\n",
    "    'theta': [0.5, 1, 1.5, 2],\n",
    "}\n",
    "\n",
    "# Create the GridSearchCV object\n",
    "grid = GridSearchCV(MovieReviewCategorizer(), param_grid)\n",
    "\n",
    "# Fit the GridSearchCV object to the data\n",
    "grid.fit(X_train, y_train)\n",
    "print(grid.best_score_)\n",
    "print(grid.best_params_)"
   ]
  },
  {
   "cell_type": "code",
   "execution_count": 73,
   "metadata": {},
   "outputs": [
    {
     "name": "stdout",
     "output_type": "stream",
     "text": [
      "1\n"
     ]
    }
   ],
   "source": [
    "# Encontramos que función lambda es la mejor\n",
    "for func in param_grid['func']:\n",
    "    if func == grid.best_params_['func']:\n",
    "        print(param_grid['func'].index(func))"
   ]
  },
  {
   "cell_type": "code",
   "execution_count": 107,
   "metadata": {},
   "outputs": [
    {
     "data": {
      "text/plain": [
       "<Axes: xlabel='param_mode'>"
      ]
     },
     "execution_count": 107,
     "metadata": {},
     "output_type": "execute_result"
    },
    {
     "data": {
      "image/png": "[encoded data removed]",
      "text/plain": [
       "<Figure size 640x480 with 2 Axes>"
      ]
     },
     "metadata": {},
     "output_type": "display_data"
    }
   ],
   "source": [
    "\n",
    "# Get the results in a DataFrame\n",
    "funcs = [\"x\", \"-log(x+10^-10)\", \"tanh\"]\n",
    "results = pd.DataFrame(grid.cv_results_)\n",
    "results.drop_duplicates(subset=['param_func', 'param_mode'], inplace=True)\n",
    "pivoted_results = results.pivot(index='param_func', columns='param_mode', values='mean_test_score')\n",
    "pivoted_results = pivoted_results.fillna(0)\n",
    "# Plot the heatmap\n",
    "# change the row names to funcs\n",
    "pivoted_results.index = funcs\n",
    "sns.heatmap(pivoted_results, annot=True, cmap='viridis')\n"
   ]
  },
  {
   "cell_type": "markdown",
   "metadata": {},
   "source": [
    "### Usando dill y picke para guardar nuestra grid_search en un archivo binário"
   ]
  },
  {
   "cell_type": "code",
   "execution_count": 92,
   "metadata": {},
   "outputs": [],
   "source": [
    "\n",
    "with open(\"modelname_grid_search.dill\", \"wb\") as f:\n",
    "    pickle.dump(grid, f)"
   ]
  },
  {
   "cell_type": "code",
   "execution_count": 90,
   "metadata": {},
   "outputs": [],
   "source": [
    "results = grid.best_estimator_.predict(X_test)\n",
    "results = pd.DataFrame(results)\n"
   ]
  },
  {
   "cell_type": "markdown",
   "metadata": {},
   "source": [
    "## Celda de pruebas con parámetros"
   ]
  },
  {
   "cell_type": "code",
   "execution_count": 108,
   "metadata": {},
   "outputs": [],
   "source": [
    "results = []\n",
    "epsilon = 10**-10\n",
    "for movie in X_test:\n",
    "    results.append(movie_review_categorizer(movie, lambda x: -log(x+epsilon), mode = 1,max_sum = False, theta = 0.5))\n",
    "\n",
    "results = pd.DataFrame(results)\n"
   ]
  },
  {
   "cell_type": "markdown",
   "metadata": {},
   "source": [
    "## Matriz de confusión y classification report de test"
   ]
  },
  {
   "cell_type": "code",
   "execution_count": 109,
   "metadata": {},
   "outputs": [
    {
     "name": "stdout",
     "output_type": "stream",
     "text": [
      "              precision    recall  f1-score   support\n",
      "\n",
      "         pos       0.59      0.62      0.61       201\n",
      "         neg       0.60      0.56      0.58       199\n",
      "\n",
      "    accuracy                           0.59       400\n",
      "   macro avg       0.59      0.59      0.59       400\n",
      "weighted avg       0.59      0.59      0.59       400\n",
      "\n"
     ]
    },
    {
     "data": {
      "image/png": "[encoded data removed]",
      "text/plain": [
       "<Figure size 640x480 with 2 Axes>"
      ]
     },
     "metadata": {},
     "output_type": "display_data"
    }
   ],
   "source": [
    "\n",
    "\n",
    "y_train_df = pd.DataFrame(y_test)\n",
    "print(classification_report(y_train_df, results, target_names=['pos', 'neg']))\n",
    "conf_matrix = confusion_matrix(y_train_df, results, labels=['pos', 'neg'])  \n",
    "conf_matrix = ConfusionMatrixDisplay(conf_matrix, display_labels=['pos', 'neg'])\n",
    "conf_matrix.plot()\n",
    "plt.show()"
   ]
  },
  {
   "cell_type": "code",
   "execution_count": null,
   "metadata": {},
   "outputs": [],
   "source": []
  }
 ],
 "metadata": {
  "kernelspec": {
   "display_name": "Python 3",
   "language": "python",
   "name": "python3"
  },
  "language_info": {
   "codemirror_mode": {
    "name": "ipython",
    "version": 3
   },
   "file_extension": ".py",
   "mimetype": "text/x-python",
   "name": "python",
   "nbconvert_exporter": "python",
   "pygments_lexer": "ipython3",
   "version": "3.8.10"
  }
 },
 "nbformat": 4,
 "nbformat_minor": 2
}
